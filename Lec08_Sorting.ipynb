{
  "nbformat": 4,
  "nbformat_minor": 0,
  "metadata": {
    "colab": {
      "provenance": [],
      "authorship_tag": "ABX9TyOqWulA/FQfc3gLM32F/i0p",
      "include_colab_link": true
    },
    "kernelspec": {
      "name": "python3",
      "display_name": "Python 3"
    },
    "language_info": {
      "name": "python"
    }
  },
  "cells": [
    {
      "cell_type": "markdown",
      "metadata": {
        "id": "view-in-github",
        "colab_type": "text"
      },
      "source": [
        "<a href=\"https://colab.research.google.com/github/sojaehyuk/data-structure-lab-2025/blob/main/Lec08_Sorting.ipynb\" target=\"_parent\"><img src=\"https://colab.research.google.com/assets/colab-badge.svg\" alt=\"Open In Colab\"/></a>"
      ]
    },
    {
      "cell_type": "markdown",
      "source": [
        "Insertion Sort"
      ],
      "metadata": {
        "id": "DuBm1VeSBifY"
      }
    },
    {
      "cell_type": "code",
      "source": [
        "def insertion_sort(a_list):\n",
        "  for index in range(1, len(a_list)):\n",
        "    current_value = a_list[index]\n",
        "    position = index\n",
        "\n",
        "    while position > 0 and a_list[position - 1] > current_value:\n",
        "      a_list[position] = a_list[position - 1]\n",
        "      position = position -1\n",
        "\n",
        "      a_list[position] = current_value"
      ],
      "metadata": {
        "id": "Z4uGje7lArLO"
      },
      "execution_count": 3,
      "outputs": []
    },
    {
      "cell_type": "markdown",
      "source": [
        "Quick Sort"
      ],
      "metadata": {
        "id": "NWe17vaQBoRt"
      }
    },
    {
      "cell_type": "code",
      "source": [
        "def quick_sort(a_list):\n",
        "    quick_sort_helper(a_list, 0, len(a_list) - 1)\n",
        "\n",
        "def quick_sort_helper(a_list, first, last):\n",
        "    if first < last:\n",
        "        split_point = partition(a_list, first, last)\n",
        "\n",
        "        quick_sort_helper(a_list, first, split_point - 1)\n",
        "        quick_sort_helper(a_list, split_point + 1, last)\n",
        "\n",
        "def partition(a_list, first, last):\n",
        "    pivot_value = a_list[first]\n",
        "    left_mark = first + 1\n",
        "    right_mark = last\n",
        "    done = False\n",
        "\n",
        "    while not done:\n",
        "        while left_mark <= right_mark and a_list[left_mark] <= pivot_value:\n",
        "            left_mark = left_mark + 1\n",
        "\n",
        "        while a_list[right_mark] >= pivot_value and right_mark >= left_mark:\n",
        "            right_mark = right_mark - 1\n",
        "\n",
        "        if right_mark < left_mark:\n",
        "            done = True\n",
        "        else:\n",
        "            temp = a_list[left_mark]\n",
        "            a_list[left_mark] = a_list[right_mark]\n",
        "            a_list[right_mark] = temp\n",
        "\n",
        "    temp = a_list[first]\n",
        "    a_list[first] = a_list[right_mark]\n",
        "    a_list[right_mark] = temp\n",
        "\n",
        "    return right_mark\n"
      ],
      "metadata": {
        "id": "GMwLdlabB1He"
      },
      "execution_count": 4,
      "outputs": []
    }
  ]
}