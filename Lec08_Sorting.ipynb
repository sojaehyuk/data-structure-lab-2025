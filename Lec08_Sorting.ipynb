{
  "nbformat": 4,
  "nbformat_minor": 0,
  "metadata": {
    "colab": {
      "provenance": [],
      "authorship_tag": "ABX9TyNZ5Whr0WPRj6DnvD85f3Pr",
      "include_colab_link": true
    },
    "kernelspec": {
      "name": "python3",
      "display_name": "Python 3"
    },
    "language_info": {
      "name": "python"
    }
  },
  "cells": [
    {
      "cell_type": "markdown",
      "metadata": {
        "id": "view-in-github",
        "colab_type": "text"
      },
      "source": [
        "<a href=\"https://colab.research.google.com/github/sojaehyuk/data-structure-lab-2025/blob/main/Lec08_Sorting.ipynb\" target=\"_parent\"><img src=\"https://colab.research.google.com/assets/colab-badge.svg\" alt=\"Open In Colab\"/></a>"
      ]
    },
    {
      "cell_type": "markdown",
      "source": [
        "Insertion Sort"
      ],
      "metadata": {
        "id": "DuBm1VeSBifY"
      }
    },
    {
      "cell_type": "code",
      "source": [
        "def insertion_sort(a_list):\n",
        "  for index in range(1, len(a_list)):\n",
        "    current_value = a_list[index]\n",
        "    position = index\n",
        "\n",
        "    while position > 0 and a_list[position - 1] > current_value:\n",
        "      a_list[position] = a_list[position - 1]\n",
        "      position = position -1\n",
        "\n",
        "      a_list[position] = current_value\n",
        "\n",
        "\n",
        "\n",
        "\n",
        "# 예시\n",
        "arr = [5, 3, 8, 4, 2]\n",
        "print(\"정렬 전:\", arr)\n",
        "insertion_sort(arr)\n",
        "print(\"정렬 후:\", arr)"
      ],
      "metadata": {
        "colab": {
          "base_uri": "https://localhost:8080/"
        },
        "id": "Z4uGje7lArLO",
        "outputId": "01273406-8a59-48a4-ba23-c0e1057dbdbe"
      },
      "execution_count": 5,
      "outputs": [
        {
          "output_type": "stream",
          "name": "stdout",
          "text": [
            "정렬 전: [5, 3, 8, 4, 2]\n",
            "정렬 후: [2, 3, 4, 5, 8]\n"
          ]
        }
      ]
    },
    {
      "cell_type": "markdown",
      "source": [
        "Quick Sort"
      ],
      "metadata": {
        "id": "NWe17vaQBoRt"
      }
    },
    {
      "cell_type": "code",
      "source": [
        "def quick_sort(a_list):\n",
        "    quick_sort_helper(a_list, 0, len(a_list) - 1)\n",
        "\n",
        "def quick_sort_helper(a_list, first, last):\n",
        "    if first < last:\n",
        "        split_point = partition(a_list, first, last)\n",
        "\n",
        "        quick_sort_helper(a_list, first, split_point - 1)\n",
        "        quick_sort_helper(a_list, split_point + 1, last)\n",
        "\n",
        "def partition(a_list, first, last):\n",
        "    pivot_value = a_list[first]\n",
        "    left_mark = first + 1\n",
        "    right_mark = last\n",
        "    done = False\n",
        "\n",
        "    while not done:\n",
        "        while left_mark <= right_mark and a_list[left_mark] <= pivot_value:\n",
        "            left_mark = left_mark + 1\n",
        "\n",
        "        while a_list[right_mark] >= pivot_value and right_mark >= left_mark:\n",
        "            right_mark = right_mark - 1\n",
        "\n",
        "        if right_mark < left_mark:\n",
        "            done = True\n",
        "        else:\n",
        "            temp = a_list[left_mark]\n",
        "            a_list[left_mark] = a_list[right_mark]\n",
        "            a_list[right_mark] = temp\n",
        "\n",
        "    temp = a_list[first]\n",
        "    a_list[first] = a_list[right_mark]\n",
        "    a_list[right_mark] = temp\n",
        "\n",
        "    return right_mark\n",
        "\n",
        "\n",
        "\n",
        "# 예시\n",
        "arr = [5, 3, 8, 4, 2]\n",
        "print(\"정렬 전:\", arr)\n",
        "quick_sort(arr)\n",
        "print(\"정렬 후:\", arr)\n"
      ],
      "metadata": {
        "colab": {
          "base_uri": "https://localhost:8080/"
        },
        "id": "GMwLdlabB1He",
        "outputId": "9cf5bd15-c1b6-4cca-909e-544c7b25c025"
      },
      "execution_count": 6,
      "outputs": [
        {
          "output_type": "stream",
          "name": "stdout",
          "text": [
            "정렬 전: [5, 3, 8, 4, 2]\n",
            "정렬 후: [2, 3, 4, 5, 8]\n"
          ]
        }
      ]
    }
  ]
}