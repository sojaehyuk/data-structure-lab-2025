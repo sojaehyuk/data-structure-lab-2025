{
  "nbformat": 4,
  "nbformat_minor": 0,
  "metadata": {
    "colab": {
      "provenance": [],
      "authorship_tag": "ABX9TyPtx3xj2jIIF7zKU3j3do33",
      "include_colab_link": true
    },
    "kernelspec": {
      "name": "python3",
      "display_name": "Python 3"
    },
    "language_info": {
      "name": "python"
    }
  },
  "cells": [
    {
      "cell_type": "markdown",
      "metadata": {
        "id": "view-in-github",
        "colab_type": "text"
      },
      "source": [
        "<a href=\"https://colab.research.google.com/github/sojaehyuk/data-structure-lab-2025/blob/main/Lec06_Queue_Deque.ipynb\" target=\"_parent\"><img src=\"https://colab.research.google.com/assets/colab-badge.svg\" alt=\"Open In Colab\"/></a>"
      ]
    },
    {
      "cell_type": "markdown",
      "source": [],
      "metadata": {
        "id": "2IP4q1W2Gjoi"
      }
    },
    {
      "cell_type": "code",
      "execution_count": null,
      "metadata": {
        "id": "h70-bVtmCcrz"
      },
      "outputs": [],
      "source": [
        "class Queue:\n",
        "  def __init__(self):\n",
        "    self.items =[]\n",
        "\n",
        "  def is_empty(self):\n",
        "    return self.items ==[]\n",
        "\n",
        "  def enqueue(self, item):\n",
        "    self.items.insert(0,item)\n",
        "\n",
        "  def dequeue(self):\n",
        "    return self.items.pop()\n",
        "\n",
        "  def size(self):\n",
        "    return len(self.items)\n",
        "\n",
        "  def dequeue_all(self):\n",
        "    self.items.clear()\n"
      ]
    },
    {
      "cell_type": "code",
      "source": [
        "class Stack:\n",
        "  def __init__(self):\n",
        "    self.items =[]\n",
        "\n",
        "  def is_empty(self):\n",
        "    return self.items ==[]\n",
        "\n",
        "  def push(self, item):\n",
        "    self.items.append(item)\n",
        "\n",
        "  def pop(self):\n",
        "    return self.items.pop()\n",
        "\n",
        "  def peek(self):\n",
        "    return self.items[len(self.items)-1]\n",
        "\n",
        "  def size(self):\n",
        "    return len(self.items)\n",
        "\n",
        "  def pop_all(self):\n",
        "    self.items.clear()\n"
      ],
      "metadata": {
        "id": "Il3GRhCyFob7"
      },
      "execution_count": null,
      "outputs": []
    },
    {
      "cell_type": "markdown",
      "source": [
        "lec06_ex2"
      ],
      "metadata": {
        "id": "aE63AEiOGleq"
      }
    },
    {
      "cell_type": "code",
      "source": [
        "def is_palindrome(world):\n",
        "  q= Queue()\n",
        "  s= Stack()\n",
        "\n",
        "  for i in range(len(world)):\n",
        "    s.push(world[i])\n",
        "    q.enqueue(world[i])\n",
        "\n",
        "  while (not q.is_empty())and s.pop()==q.dequeue():\n",
        "    pass\n",
        "\n",
        "  if q.is_empty():\n",
        "    return True\n",
        "  else:\n",
        "    return False\n"
      ],
      "metadata": {
        "id": "j6uoynwrC6Kq"
      },
      "execution_count": null,
      "outputs": []
    },
    {
      "cell_type": "code",
      "source": [
        "str ='abjia'\n",
        "t= is_palindrome(str)\n",
        "print(str, \" is Palindrome?\", t)"
      ],
      "metadata": {
        "colab": {
          "base_uri": "https://localhost:8080/"
        },
        "id": "_j-g-AYIEivT",
        "outputId": "c5c9453c-8750-446c-b809-815491bd8410"
      },
      "execution_count": null,
      "outputs": [
        {
          "output_type": "stream",
          "name": "stdout",
          "text": [
            "abjia  is Palindrome? False\n"
          ]
        }
      ]
    },
    {
      "cell_type": "code",
      "source": [
        "from collections import deque\n",
        "\n",
        "# Stack 클래스 정의\n",
        "class Stack:\n",
        "    def __init__(self):\n",
        "        self.items = []\n",
        "\n",
        "    def push(self, item):\n",
        "        self.items.append(item)\n",
        "\n",
        "    def pop(self):\n",
        "        return self.items.pop()\n",
        "\n",
        "    def is_empty(self):\n",
        "        return len(self.items) == 0\n",
        "\n",
        "# Queue 클래스 정의\n",
        "class Queue:\n",
        "    def __init__(self):\n",
        "        self.items = deque()\n",
        "\n",
        "    def enqueue(self, item):\n",
        "        self.items.append(item)\n",
        "\n",
        "    def dequeue(self):\n",
        "        return self.items.popleft()\n",
        "\n",
        "    def is_empty(self):\n",
        "        return len(self.items) == 0\n",
        "\n",
        "# 회문 판별 함수\n",
        "def is_palindrome(word):\n",
        "    q = Queue()\n",
        "    s = Stack()\n",
        "\n",
        "    for ch in word:\n",
        "        s.push(ch)\n",
        "        q.enqueue(ch)\n",
        "\n",
        "    while not q.is_empty():\n",
        "        if s.pop() != q.dequeue():\n",
        "            return False\n",
        "\n",
        "    return True\n",
        "\n",
        "# 테스트\n",
        "print(is_palindrome(\"racecar\"))   # True\n",
        "print(is_palindrome(\"hello\"))     # False\n",
        "print(is_palindrome(\"토마토\"))      # True\n",
        "print(is_palindrome(\"사과\"))       # False\n"
      ],
      "metadata": {
        "colab": {
          "base_uri": "https://localhost:8080/"
        },
        "id": "x71SmlccHA7L",
        "outputId": "a454afd2-d24f-4aec-d0ed-eacb790846ba"
      },
      "execution_count": null,
      "outputs": [
        {
          "output_type": "stream",
          "name": "stdout",
          "text": [
            "True\n",
            "False\n",
            "True\n",
            "False\n"
          ]
        }
      ]
    }
  ]
}