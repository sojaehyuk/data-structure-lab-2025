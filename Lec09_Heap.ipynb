{
  "nbformat": 4,
  "nbformat_minor": 0,
  "metadata": {
    "colab": {
      "provenance": [],
      "authorship_tag": "ABX9TyPd+JoTDVc94Kj6XocVfr4X",
      "include_colab_link": true
    },
    "kernelspec": {
      "name": "python3",
      "display_name": "Python 3"
    },
    "language_info": {
      "name": "python"
    }
  },
  "cells": [
    {
      "cell_type": "markdown",
      "metadata": {
        "id": "view-in-github",
        "colab_type": "text"
      },
      "source": [
        "<a href=\"https://colab.research.google.com/github/sojaehyuk/data-structure-lab-2025/blob/main/Lec09_Heap.ipynb\" target=\"_parent\"><img src=\"https://colab.research.google.com/assets/colab-badge.svg\" alt=\"Open In Colab\"/></a>"
      ]
    },
    {
      "cell_type": "code",
      "execution_count": null,
      "metadata": {
        "id": "2KbRfG7qRrVp"
      },
      "outputs": [],
      "source": []
    },
    {
      "cell_type": "markdown",
      "source": [
        "Binary Heap"
      ],
      "metadata": {
        "id": "Ms0TJvFbRssT"
      }
    },
    {
      "cell_type": "code",
      "source": [
        "def perc_up(self, i):\n",
        "  while i // 2 > 0:\n",
        "    if self.heap_list[i] < self.heap_list[i//2]:\n",
        "      tmp =  self.heap_list[i//2]\n",
        "       self.heap_list[i//2] = self.heap_list[i]\n",
        "       self.heap_list[i] = tmp\n",
        "      i= i //2\n",
        "\n",
        "\n",
        "def insert(self, k):\n",
        "  self.heap_list.append(k)\n",
        "  self.current_size = self.current_size + 1\n",
        "  self.perc_up(self.current_size)\n",
        "\n",
        "\n",
        "def del_man(self):\n",
        "  ret_val = self.heap_list[1]\n",
        "  self.heap_list[1] = self[self.current_size]\n",
        "  self.current_size = self.current_size -1\n",
        "  self.heap_list.pop()\n",
        "  self.perc_down(1)\n",
        "  return ret_val\n",
        "\n",
        "def build_heap(self, a_list):\n",
        "  i = len(a_list) // 2\n",
        "  self.current_size = len(a_list)\n",
        "  self.head_list =[0] +a_list[:]\n",
        "  while (i>0):\n",
        "    self.perc_down(i)\n",
        "    i=i-1\n",
        "\n"
      ],
      "metadata": {
        "id": "xu3qqBj3RwKK"
      },
      "execution_count": null,
      "outputs": []
    },
    {
      "cell_type": "markdown",
      "source": [
        "Heap Sort"
      ],
      "metadata": {
        "id": "V1DnVX-jTGkP"
      }
    },
    {
      "cell_type": "code",
      "source": [
        "def heapsort(iterable):\n",
        "  heap =BinHeap()\n",
        "  for x in iterable:\n",
        "    heap.insert(x)\n",
        "  sorted_lst = []\n",
        "\n",
        "  for _ in range(heap.current_size):\n",
        "    sorted_lst.append(heap.del_main())\n",
        "\n",
        "  return sorted_lst\n",
        "\n",
        ""
      ],
      "metadata": {
        "id": "JVJwkBGKTI3v"
      },
      "execution_count": null,
      "outputs": []
    }
  ]
}