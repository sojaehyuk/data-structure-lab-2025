{
  "nbformat": 4,
  "nbformat_minor": 0,
  "metadata": {
    "colab": {
      "provenance": [],
      "authorship_tag": "ABX9TyM0HRrPp8hp6tvWOXX45axG",
      "include_colab_link": true
    },
    "kernelspec": {
      "name": "python3",
      "display_name": "Python 3"
    },
    "language_info": {
      "name": "python"
    }
  },
  "cells": [
    {
      "cell_type": "markdown",
      "metadata": {
        "id": "view-in-github",
        "colab_type": "text"
      },
      "source": [
        "<a href=\"https://colab.research.google.com/github/sojaehyuk/data-structure-lab-2025/blob/main/Lec05_Stack.ipynb\" target=\"_parent\"><img src=\"https://colab.research.google.com/assets/colab-badge.svg\" alt=\"Open In Colab\"/></a>"
      ]
    },
    {
      "cell_type": "markdown",
      "source": [
        "Lec05_Stack"
      ],
      "metadata": {
        "id": "v1oakEYw1b1K"
      }
    },
    {
      "cell_type": "markdown",
      "source": [
        "1. stack class"
      ],
      "metadata": {
        "id": "f-sz5ki41fxy"
      }
    },
    {
      "cell_type": "code",
      "source": [
        "class Stack:\n",
        "  def _init_(self):\n",
        "    self.items=[]\n",
        "\n",
        "  def is_empty(self):\n",
        "    return self.items == []\n",
        "\n",
        "  def push(self, items):\n",
        "    self.items.append(items)\n",
        "\n",
        "  def pop(self):\n",
        "    return self.items.pop()\n",
        "\n",
        "  def peek(self):\n",
        "    return self.items[len(self.items)-1]\n",
        "\n",
        "  def siz(self):\n",
        "    return len(self.items)\n",
        "\n",
        "  def pop_all(self):\n",
        "    self.item.clear()\n",
        "\n"
      ],
      "metadata": {
        "id": "MNU-Mf0M1ici"
      },
      "execution_count": null,
      "outputs": []
    },
    {
      "cell_type": "code",
      "source": [
        "class Stack:\n",
        "    def __init__(self):\n",
        "        self.items = []\n",
        "\n",
        "    def push(self, item):\n",
        "        self.items.append(item)\n",
        "\n",
        "    def pop(self):\n",
        "        return self.items.pop()\n",
        "\n",
        "    def is_empty(self):\n",
        "        return len(self.items) == 0\n",
        "\n",
        "# 테스트 코드\n",
        "s = Stack()\n",
        "print(s.is_empty())  #  True\n",
        "s.push(4)\n",
        "s.push(\"Cat\")\n",
        "print(s.is_empty())  #  False\n",
        "print(s.pop())       #  \"Cat\"\n"
      ],
      "metadata": {
        "colab": {
          "base_uri": "https://localhost:8080/"
        },
        "id": "qyxUNvgX1296",
        "outputId": "87c7365f-1e0d-4c3f-b119-87995002402d"
      },
      "execution_count": null,
      "outputs": [
        {
          "output_type": "stream",
          "name": "stdout",
          "text": [
            "True\n",
            "False\n",
            "Cat\n"
          ]
        }
      ]
    },
    {
      "cell_type": "markdown",
      "source": [
        "case 2"
      ],
      "metadata": {
        "id": "hGjkq9fm6Bji"
      }
    },
    {
      "cell_type": "code",
      "source": [
        "class Stack:\n",
        "  def _init_(self):\n",
        "    self.items=[]\n",
        "\n",
        "  def is_empty(self):\n",
        "    return self.items == []\n",
        "\n",
        "  def push(self, items):\n",
        "    self.items.append(items)\n",
        "\n",
        "  def pop(self):\n",
        "    return self.items.pop()\n",
        "\n",
        "  def peek(self):\n",
        "    return self.items[len(self.items)-1]\n",
        "\n",
        "  def siz(self):\n",
        "    return len(self.items)\n",
        "\n",
        "  def pop_all(self):\n",
        "    self.item.clear()\n",
        "\n",
        "def par_checker(symbol_string):\n",
        "  s = Stack()\n",
        "  balanced = True\n",
        "  index = 0\n",
        "\n",
        "  while index < len(symbol_string) and balanced:\n",
        "    symbol = symbol_string[index]\n",
        "    if symbol == \"(\":\n",
        "      s.push(symbol)\n",
        "    else:\n",
        "      if s.is_empty():\n",
        "        balanced = False\n",
        "      else:\n",
        "        s.pop()\n",
        "\n",
        "    index = index + 1\n",
        "\n",
        "  if balanced and s.is_empty():\n",
        "    return True\n",
        "  else:\n",
        "    return False\n"
      ],
      "metadata": {
        "id": "F2Rs4L804Eqj"
      },
      "execution_count": null,
      "outputs": []
    }
  ]
}